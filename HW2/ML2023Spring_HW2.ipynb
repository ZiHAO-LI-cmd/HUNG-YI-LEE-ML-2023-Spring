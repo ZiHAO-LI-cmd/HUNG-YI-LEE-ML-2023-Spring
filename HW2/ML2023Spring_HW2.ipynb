{
  "cells": [
    {
      "cell_type": "markdown",
      "metadata": {
        "id": "OYlaRwNu7ojq"
      },
      "source": [
        "# **Homework 2: Phoneme Classification**\n"
      ]
    },
    {
      "cell_type": "markdown",
      "source": [
        "Objectives:\n",
        "* Solve a classification problem with deep neural networks (DNNs).\n",
        "* Understand recursive neural networks (RNNs).\n",
        "\n",
        "If you have any questions, please contact the TAs via TA hours, NTU COOL, or email to mlta-2023-spring@googlegroups.com"
      ],
      "metadata": {
        "id": "A7DRC5V7_8A5"
      }
    },
    {
      "cell_type": "markdown",
      "metadata": {
        "id": "KVUGfWTo7_Oj"
      },
      "source": [
        "# Download Data\n",
        "Download data from google drive, then unzip it.\n",
        "\n",
        "You should have\n",
        "- `libriphone/train_split.txt`: training metadata\n",
        "- `libriphone/train_labels`: training labels\n",
        "- `libriphone/test_split.txt`: testing metadata\n",
        "- `libriphone/feat/train/*.pt`: training feature\n",
        "- `libriphone/feat/test/*.pt`:  testing feature\n",
        "\n",
        "after running the following block.\n",
        "\n",
        "> **Notes: if the google drive link is dead, you can download the data directly from [Kaggle](https://www.kaggle.com/c/ml2023spring-hw2/data) and upload it to the workspace.**\n"
      ]
    },
    {
      "cell_type": "code",
      "execution_count": 1,
      "metadata": {
        "id": "OzkiMEcC3Foq",
        "outputId": "f033d089-6723-46c8-af91-fb3dfd2b1ca7",
        "colab": {
          "base_uri": "https://localhost:8080/"
        }
      },
      "outputs": [
        {
          "output_type": "stream",
          "name": "stdout",
          "text": [
            "Looking in indexes: https://pypi.org/simple, https://us-python.pkg.dev/colab-wheels/public/simple/\n",
            "Requirement already satisfied: gdown in /usr/local/lib/python3.9/dist-packages (4.4.0)\n",
            "Collecting gdown\n",
            "  Downloading gdown-4.6.4-py3-none-any.whl (14 kB)\n",
            "Requirement already satisfied: tqdm in /usr/local/lib/python3.9/dist-packages (from gdown) (4.65.0)\n",
            "Requirement already satisfied: filelock in /usr/local/lib/python3.9/dist-packages (from gdown) (3.9.0)\n",
            "Requirement already satisfied: beautifulsoup4 in /usr/local/lib/python3.9/dist-packages (from gdown) (4.6.3)\n",
            "Requirement already satisfied: requests[socks] in /usr/local/lib/python3.9/dist-packages (from gdown) (2.25.1)\n",
            "Requirement already satisfied: six in /usr/local/lib/python3.9/dist-packages (from gdown) (1.15.0)\n",
            "Requirement already satisfied: certifi>=2017.4.17 in /usr/local/lib/python3.9/dist-packages (from requests[socks]->gdown) (2022.12.7)\n",
            "Requirement already satisfied: urllib3<1.27,>=1.21.1 in /usr/local/lib/python3.9/dist-packages (from requests[socks]->gdown) (1.26.14)\n",
            "Requirement already satisfied: idna<3,>=2.5 in /usr/local/lib/python3.9/dist-packages (from requests[socks]->gdown) (2.10)\n",
            "Requirement already satisfied: chardet<5,>=3.0.2 in /usr/local/lib/python3.9/dist-packages (from requests[socks]->gdown) (4.0.0)\n",
            "Requirement already satisfied: PySocks!=1.5.7,>=1.5.6 in /usr/local/lib/python3.9/dist-packages (from requests[socks]->gdown) (1.7.1)\n",
            "Installing collected packages: gdown\n",
            "  Attempting uninstall: gdown\n",
            "    Found existing installation: gdown 4.4.0\n",
            "    Uninstalling gdown-4.4.0:\n",
            "      Successfully uninstalled gdown-4.4.0\n",
            "Successfully installed gdown-4.6.4\n",
            "/usr/local/lib/python3.9/dist-packages/gdown/cli.py:121: FutureWarning: Option `--id` was deprecated in version 4.3.1 and will be removed in 5.0. You don't need to pass it anymore to use a file ID.\n",
            "  warnings.warn(\n",
            "Downloading...\n",
            "From: https://drive.google.com/uc?id=1qzCRnywKh30mTbWUEjXuNT2isOCAPdO1\n",
            "To: /content/libriphone.zip\n",
            "100% 384M/384M [00:01<00:00, 268MB/s]\n",
            "feat  test_split.txt  train_labels.txt\ttrain_split.txt\n"
          ]
        }
      ],
      "source": [
        "!pip install --upgrade gdown\n",
        "\n",
        "# Main link\n",
        "# !gdown --id '1N1eVIDe9hKM5uiNRGmifBlwSDGiVXPJe' --output libriphone.zip\n",
        "!gdown --id '1qzCRnywKh30mTbWUEjXuNT2isOCAPdO1' --output libriphone.zip\n",
        "\n",
        "!unzip -q libriphone.zip\n",
        "!ls libriphone"
      ]
    },
    {
      "cell_type": "code",
      "source": [
        "!nvidia-smi"
      ],
      "metadata": {
        "colab": {
          "base_uri": "https://localhost:8080/"
        },
        "id": "2AZoHo3JhwQc",
        "outputId": "644a26d1-a738-4620-b08d-d875918e58a5"
      },
      "execution_count": 2,
      "outputs": [
        {
          "output_type": "stream",
          "name": "stdout",
          "text": [
            "Sat Mar 11 05:31:52 2023       \n",
            "+-----------------------------------------------------------------------------+\n",
            "| NVIDIA-SMI 525.85.12    Driver Version: 525.85.12    CUDA Version: 12.0     |\n",
            "|-------------------------------+----------------------+----------------------+\n",
            "| GPU  Name        Persistence-M| Bus-Id        Disp.A | Volatile Uncorr. ECC |\n",
            "| Fan  Temp  Perf  Pwr:Usage/Cap|         Memory-Usage | GPU-Util  Compute M. |\n",
            "|                               |                      |               MIG M. |\n",
            "|===============================+======================+======================|\n",
            "|   0  Tesla T4            Off  | 00000000:00:04.0 Off |                    0 |\n",
            "| N/A   71C    P0    33W /  70W |      0MiB / 15360MiB |      0%      Default |\n",
            "|                               |                      |                  N/A |\n",
            "+-------------------------------+----------------------+----------------------+\n",
            "                                                                               \n",
            "+-----------------------------------------------------------------------------+\n",
            "| Processes:                                                                  |\n",
            "|  GPU   GI   CI        PID   Type   Process name                  GPU Memory |\n",
            "|        ID   ID                                                   Usage      |\n",
            "|=============================================================================|\n",
            "|  No running processes found                                                 |\n",
            "+-----------------------------------------------------------------------------+\n"
          ]
        }
      ]
    },
    {
      "cell_type": "markdown",
      "source": [
        "# Some Utility Functions\n",
        "**Fixes random number generator seeds for reproducibility.**"
      ],
      "metadata": {
        "id": "pADUiYODJE1O"
      }
    },
    {
      "cell_type": "code",
      "source": [
        "import numpy as np\n",
        "import torch\n",
        "import random\n",
        "\n",
        "def same_seeds(seed):\n",
        "    random.seed(seed) \n",
        "    np.random.seed(seed)  \n",
        "    torch.manual_seed(seed)\n",
        "    if torch.cuda.is_available():\n",
        "        torch.cuda.manual_seed(seed)\n",
        "        torch.cuda.manual_seed_all(seed) \n",
        "    torch.backends.cudnn.benchmark = False\n",
        "    torch.backends.cudnn.deterministic = True"
      ],
      "metadata": {
        "id": "BsZKgBZQJjaE"
      },
      "execution_count": 3,
      "outputs": []
    },
    {
      "cell_type": "markdown",
      "metadata": {
        "id": "_L_4anls8Drv"
      },
      "source": [
        "**Helper functions to pre-process the training data from raw MFCC features of each utterance.**\n",
        "\n",
        "A phoneme may span several frames and is dependent to past and future frames. \\\n",
        "Hence we concatenate neighboring phonemes for training to achieve higher accuracy. The **concat_feat** function concatenates past and future k frames (total 2k+1 = n frames), and we predict the center frame.\n",
        "\n",
        "Feel free to modify the data preprocess functions, but **do not drop any frame** (if you modify the functions, remember to check that the number of frames are the same as mentioned in the slides)"
      ]
    },
    {
      "cell_type": "code",
      "execution_count": 4,
      "metadata": {
        "id": "IJjLT8em-y9G"
      },
      "outputs": [],
      "source": [
        "import os\n",
        "import torch\n",
        "from tqdm import tqdm\n",
        "\n",
        "def load_feat(path):\n",
        "    feat = torch.load(path)\n",
        "    return feat\n",
        "\n",
        "def shift(x, n):\n",
        "    if n < 0:\n",
        "        left = x[0].repeat(-n, 1)\n",
        "        right = x[:n]\n",
        "    elif n > 0:\n",
        "        right = x[-1].repeat(n, 1)\n",
        "        left = x[n:]\n",
        "    else:\n",
        "        return x\n",
        "\n",
        "    return torch.cat((left, right), dim=0)\n",
        "\n",
        "def concat_feat(x, concat_n):\n",
        "    assert concat_n % 2 == 1 # n must be odd\n",
        "    if concat_n < 2:\n",
        "        return x\n",
        "    seq_len, feature_dim = x.size(0), x.size(1)\n",
        "    x = x.repeat(1, concat_n) \n",
        "    x = x.view(seq_len, concat_n, feature_dim).permute(1, 0, 2) # concat_n, seq_len, feature_dim\n",
        "    mid = (concat_n // 2)\n",
        "    for r_idx in range(1, mid+1):\n",
        "        x[mid + r_idx, :] = shift(x[mid + r_idx], r_idx)\n",
        "        x[mid - r_idx, :] = shift(x[mid - r_idx], -r_idx)\n",
        "\n",
        "    return x.permute(1, 0, 2).view(seq_len, concat_n * feature_dim)\n",
        "\n",
        "def preprocess_data(split, feat_dir, phone_path, concat_nframes, train_ratio=0.8, random_seed=1213):\n",
        "    class_num = 41 # NOTE: pre-computed, should not need change\n",
        "\n",
        "    if split == 'train' or split == 'val':\n",
        "        mode = 'train'\n",
        "    elif split == 'test':\n",
        "        mode = 'test'\n",
        "    else:\n",
        "        raise ValueError('Invalid \\'split\\' argument for dataset: PhoneDataset!')\n",
        "\n",
        "    label_dict = {}\n",
        "    if mode == 'train':\n",
        "        for line in open(os.path.join(phone_path, f'{mode}_labels.txt')).readlines():\n",
        "            line = line.strip('\\n').split(' ')\n",
        "            label_dict[line[0]] = [int(p) for p in line[1:]]\n",
        "        \n",
        "        # split training and validation data\n",
        "        usage_list = open(os.path.join(phone_path, 'train_split.txt')).readlines()\n",
        "        random.seed(random_seed)\n",
        "        random.shuffle(usage_list)\n",
        "        train_len = int(len(usage_list) * train_ratio)\n",
        "        usage_list = usage_list[:train_len] if split == 'train' else usage_list[train_len:]\n",
        "\n",
        "    elif mode == 'test':\n",
        "        usage_list = open(os.path.join(phone_path, 'test_split.txt')).readlines()\n",
        "\n",
        "    usage_list = [line.strip('\\n') for line in usage_list]\n",
        "    print('[Dataset] - # phone classes: ' + str(class_num) + ', number of utterances for ' + split + ': ' + str(len(usage_list)))\n",
        "\n",
        "    max_len = 3000000\n",
        "    X = torch.empty(max_len, 39 * concat_nframes)\n",
        "    if mode == 'train':\n",
        "        y = torch.empty(max_len, dtype=torch.long)\n",
        "\n",
        "    idx = 0\n",
        "    for i, fname in tqdm(enumerate(usage_list)):\n",
        "        feat = load_feat(os.path.join(feat_dir, mode, f'{fname}.pt'))\n",
        "        cur_len = len(feat)\n",
        "        feat = concat_feat(feat, concat_nframes)\n",
        "        if mode == 'train':\n",
        "          label = torch.LongTensor(label_dict[fname])\n",
        "\n",
        "        X[idx: idx + cur_len, :] = feat\n",
        "        if mode == 'train':\n",
        "          y[idx: idx + cur_len] = label\n",
        "\n",
        "        idx += cur_len\n",
        "\n",
        "    X = X[:idx, :]\n",
        "    if mode == 'train':\n",
        "      y = y[:idx]\n",
        "\n",
        "    print(f'[INFO] {split} set')\n",
        "    print(X.shape)\n",
        "    if mode == 'train':\n",
        "      print(y.shape)\n",
        "      return X, y\n",
        "    else:\n",
        "      return X\n"
      ]
    },
    {
      "cell_type": "markdown",
      "metadata": {
        "id": "us5XW_x6udZQ"
      },
      "source": [
        "# Dataset"
      ]
    },
    {
      "cell_type": "code",
      "execution_count": 5,
      "metadata": {
        "id": "Fjf5EcmJtf4e"
      },
      "outputs": [],
      "source": [
        "import torch\n",
        "from torch.utils.data import Dataset\n",
        "\n",
        "class LibriDataset(Dataset):\n",
        "    def __init__(self, X, y=None):\n",
        "        self.data = X\n",
        "        if y is not None:\n",
        "            self.label = torch.LongTensor(y)\n",
        "        else:\n",
        "            self.label = None\n",
        "\n",
        "    def __getitem__(self, idx):\n",
        "        if self.label is not None:\n",
        "            return self.data[idx], self.label[idx]\n",
        "        else:\n",
        "            return self.data[idx]\n",
        "\n",
        "    def __len__(self):\n",
        "        return len(self.data)\n"
      ]
    },
    {
      "cell_type": "markdown",
      "metadata": {
        "id": "IRqKNvNZwe3V"
      },
      "source": [
        "# Model\n",
        "Feel free to modify the structure of the model."
      ]
    },
    {
      "cell_type": "code",
      "execution_count": 6,
      "metadata": {
        "id": "Bg-GRd7ywdrL"
      },
      "outputs": [],
      "source": [
        "import torch.nn as nn\n",
        "\n",
        "class BasicBlock(nn.Module):\n",
        "    def __init__(self, input_dim, output_dim):\n",
        "        super(BasicBlock, self).__init__()\n",
        "\n",
        "        # TODO: apply batch normalization and dropout for strong baseline.\n",
        "        # Reference: https://pytorch.org/docs/stable/generated/torch.nn.BatchNorm1d.html (batch normalization)\n",
        "        #       https://pytorch.org/docs/stable/generated/torch.nn.Dropout.html (dropout)\n",
        "        self.block = nn.Sequential(\n",
        "            nn.Linear(input_dim, output_dim),\n",
        "            nn.ReLU(),\n",
        "            nn.BatchNorm1d(output_dim),\n",
        "            nn.Dropout(0.35),\n",
        "        )\n",
        "\n",
        "    def forward(self, x):\n",
        "        x = self.block(x)\n",
        "        return x\n",
        "\n",
        "\n",
        "class Classifier(nn.Module):\n",
        "    def __init__(self, input_dim, output_dim=41, hidden_layers=1, hidden_dim=256):\n",
        "        super(Classifier, self).__init__()\n",
        "\n",
        "        self.fc = nn.Sequential(\n",
        "            BasicBlock(input_dim, hidden_dim),\n",
        "            *[BasicBlock(hidden_dim, hidden_dim) for _ in range(hidden_layers)],\n",
        "            nn.Linear(hidden_dim, output_dim)\n",
        "        )\n",
        "\n",
        "    def forward(self, x):\n",
        "        x = self.fc(x)\n",
        "        return x"
      ]
    },
    {
      "cell_type": "markdown",
      "source": [
        "# Hyper-parameters"
      ],
      "metadata": {
        "id": "TlIq8JeqvvHC"
      }
    },
    {
      "cell_type": "code",
      "source": [
        "# data prarameters\n",
        "# TODO: change the value of \"concat_nframes\" for medium baseline\n",
        "concat_nframes = 17   # the number of frames to concat with, n must be odd (total 2k+1 = n frames)\n",
        "train_ratio = 0.75   # the ratio of data used for training, the rest will be used for validation\n",
        "\n",
        "# training parameters\n",
        "seed = 1213          # random seed\n",
        "batch_size = 512        # batch size\n",
        "num_epoch = 100         # the number of training epoch\n",
        "learning_rate = 1e-4      # learning rate\n",
        "model_path = './model.ckpt'  # the path where the checkpoint will be saved\n",
        "\n",
        "# model parameters\n",
        "# TODO: change the value of \"hidden_layers\" or \"hidden_dim\" for medium baseline\n",
        "input_dim = 39 * concat_nframes  # the input dim of the model, you should not change the value\n",
        "hidden_layers = 4          # the number of hidden layers\n",
        "hidden_dim = 1024           # the hidden dim"
      ],
      "metadata": {
        "id": "iIHn79Iav1ri"
      },
      "execution_count": 7,
      "outputs": []
    },
    {
      "cell_type": "markdown",
      "source": [
        "# Dataloader"
      ],
      "metadata": {
        "id": "IIUFRgG5yoDn"
      }
    },
    {
      "cell_type": "code",
      "source": [
        "from torch.utils.data import DataLoader\n",
        "import gc\n",
        "\n",
        "same_seeds(seed)\n",
        "device = 'cuda' if torch.cuda.is_available() else 'cpu'\n",
        "print(f'DEVICE: {device}')\n",
        "\n",
        "# preprocess data\n",
        "train_X, train_y = preprocess_data(split='train', feat_dir='./libriphone/feat', phone_path='./libriphone', concat_nframes=concat_nframes, train_ratio=train_ratio, random_seed=seed)\n",
        "val_X, val_y = preprocess_data(split='val', feat_dir='./libriphone/feat', phone_path='./libriphone', concat_nframes=concat_nframes, train_ratio=train_ratio, random_seed=seed)\n",
        "\n",
        "# get dataset\n",
        "train_set = LibriDataset(train_X, train_y)\n",
        "val_set = LibriDataset(val_X, val_y)\n",
        "\n",
        "# remove raw feature to save memory\n",
        "del train_X, train_y, val_X, val_y\n",
        "gc.collect()\n",
        "\n",
        "# get dataloader\n",
        "train_loader = DataLoader(train_set, batch_size=batch_size, shuffle=True)\n",
        "val_loader = DataLoader(val_set, batch_size=batch_size, shuffle=False)"
      ],
      "metadata": {
        "id": "c1zI3v5jyrDn",
        "outputId": "d8af5255-33bf-4080-c79a-e66dd2ef63d4",
        "colab": {
          "base_uri": "https://localhost:8080/"
        }
      },
      "execution_count": 8,
      "outputs": [
        {
          "output_type": "stream",
          "name": "stdout",
          "text": [
            "DEVICE: cuda\n",
            "[Dataset] - # phone classes: 41, number of utterances for train: 2571\n"
          ]
        },
        {
          "output_type": "stream",
          "name": "stderr",
          "text": [
            "2571it [00:09, 276.42it/s]\n"
          ]
        },
        {
          "output_type": "stream",
          "name": "stdout",
          "text": [
            "[INFO] train set\n",
            "torch.Size([1588590, 663])\n",
            "torch.Size([1588590])\n",
            "[Dataset] - # phone classes: 41, number of utterances for val: 858\n"
          ]
        },
        {
          "output_type": "stream",
          "name": "stderr",
          "text": [
            "858it [00:02, 324.64it/s]"
          ]
        },
        {
          "output_type": "stream",
          "name": "stdout",
          "text": [
            "[INFO] val set\n",
            "torch.Size([528204, 663])\n",
            "torch.Size([528204])\n"
          ]
        },
        {
          "output_type": "stream",
          "name": "stderr",
          "text": [
            "\n"
          ]
        }
      ]
    },
    {
      "cell_type": "markdown",
      "source": [
        "# Training"
      ],
      "metadata": {
        "id": "pwWH1KIqzxEr"
      }
    },
    {
      "cell_type": "code",
      "execution_count": 9,
      "metadata": {
        "id": "CdMWsBs7zzNs",
        "outputId": "5cb9ef7f-56e6-4c6a-9404-5d5ad2e7e3ac",
        "colab": {
          "base_uri": "https://localhost:8080/"
        }
      },
      "outputs": [
        {
          "output_type": "stream",
          "name": "stderr",
          "text": [
            "100%|██████████| 3103/3103 [00:36<00:00, 85.20it/s]\n",
            "100%|██████████| 1032/1032 [00:08<00:00, 124.74it/s]\n"
          ]
        },
        {
          "output_type": "stream",
          "name": "stdout",
          "text": [
            "[001/100] Train Acc: 0.53623 Loss: 1.56058 | Val Acc: 0.62948 loss: 1.19437\n",
            "saving model with acc 0.62948\n"
          ]
        },
        {
          "output_type": "stream",
          "name": "stderr",
          "text": [
            "100%|██████████| 3103/3103 [00:33<00:00, 91.79it/s] \n",
            "100%|██████████| 1032/1032 [00:04<00:00, 208.50it/s]\n"
          ]
        },
        {
          "output_type": "stream",
          "name": "stdout",
          "text": [
            "[002/100] Train Acc: 0.61022 Loss: 1.26201 | Val Acc: 0.65870 loss: 1.08971\n",
            "saving model with acc 0.65870\n"
          ]
        },
        {
          "output_type": "stream",
          "name": "stderr",
          "text": [
            "100%|██████████| 3103/3103 [00:33<00:00, 92.66it/s]\n",
            "100%|██████████| 1032/1032 [00:05<00:00, 186.80it/s]\n"
          ]
        },
        {
          "output_type": "stream",
          "name": "stdout",
          "text": [
            "[003/100] Train Acc: 0.63430 Loss: 1.17428 | Val Acc: 0.67326 loss: 1.03441\n",
            "saving model with acc 0.67326\n"
          ]
        },
        {
          "output_type": "stream",
          "name": "stderr",
          "text": [
            "100%|██████████| 3103/3103 [00:33<00:00, 93.97it/s]\n",
            "100%|██████████| 1032/1032 [00:05<00:00, 178.14it/s]\n"
          ]
        },
        {
          "output_type": "stream",
          "name": "stdout",
          "text": [
            "[004/100] Train Acc: 0.64900 Loss: 1.12144 | Val Acc: 0.68402 loss: 0.99764\n",
            "saving model with acc 0.68402\n"
          ]
        },
        {
          "output_type": "stream",
          "name": "stderr",
          "text": [
            "100%|██████████| 3103/3103 [00:32<00:00, 95.47it/s]\n",
            "100%|██████████| 1032/1032 [00:05<00:00, 176.14it/s]\n"
          ]
        },
        {
          "output_type": "stream",
          "name": "stdout",
          "text": [
            "[005/100] Train Acc: 0.65928 Loss: 1.08201 | Val Acc: 0.69199 loss: 0.97178\n",
            "saving model with acc 0.69199\n"
          ]
        },
        {
          "output_type": "stream",
          "name": "stderr",
          "text": [
            "100%|██████████| 3103/3103 [00:33<00:00, 91.79it/s]\n",
            "100%|██████████| 1032/1032 [00:05<00:00, 185.52it/s]\n"
          ]
        },
        {
          "output_type": "stream",
          "name": "stdout",
          "text": [
            "[006/100] Train Acc: 0.66802 Loss: 1.05265 | Val Acc: 0.69793 loss: 0.95007\n",
            "saving model with acc 0.69793\n"
          ]
        },
        {
          "output_type": "stream",
          "name": "stderr",
          "text": [
            "100%|██████████| 3103/3103 [00:33<00:00, 92.89it/s]\n",
            "100%|██████████| 1032/1032 [00:05<00:00, 199.38it/s]\n"
          ]
        },
        {
          "output_type": "stream",
          "name": "stdout",
          "text": [
            "[007/100] Train Acc: 0.67490 Loss: 1.02848 | Val Acc: 0.70237 loss: 0.93443\n",
            "saving model with acc 0.70237\n"
          ]
        },
        {
          "output_type": "stream",
          "name": "stderr",
          "text": [
            "100%|██████████| 3103/3103 [00:33<00:00, 92.59it/s]\n",
            "100%|██████████| 1032/1032 [00:05<00:00, 206.06it/s]\n"
          ]
        },
        {
          "output_type": "stream",
          "name": "stdout",
          "text": [
            "[008/100] Train Acc: 0.68077 Loss: 1.00683 | Val Acc: 0.70613 loss: 0.92010\n",
            "saving model with acc 0.70613\n"
          ]
        },
        {
          "output_type": "stream",
          "name": "stderr",
          "text": [
            "100%|██████████| 3103/3103 [00:33<00:00, 92.85it/s]\n",
            "100%|██████████| 1032/1032 [00:05<00:00, 203.25it/s]\n"
          ]
        },
        {
          "output_type": "stream",
          "name": "stdout",
          "text": [
            "[009/100] Train Acc: 0.68634 Loss: 0.98836 | Val Acc: 0.71060 loss: 0.90569\n",
            "saving model with acc 0.71060\n"
          ]
        },
        {
          "output_type": "stream",
          "name": "stderr",
          "text": [
            "100%|██████████| 3103/3103 [00:33<00:00, 93.41it/s]\n",
            "100%|██████████| 1032/1032 [00:05<00:00, 204.98it/s]\n"
          ]
        },
        {
          "output_type": "stream",
          "name": "stdout",
          "text": [
            "[010/100] Train Acc: 0.69066 Loss: 0.97108 | Val Acc: 0.71299 loss: 0.89791\n",
            "saving model with acc 0.71299\n"
          ]
        },
        {
          "output_type": "stream",
          "name": "stderr",
          "text": [
            "100%|██████████| 3103/3103 [00:33<00:00, 93.55it/s]\n",
            "100%|██████████| 1032/1032 [00:04<00:00, 206.46it/s]\n"
          ]
        },
        {
          "output_type": "stream",
          "name": "stdout",
          "text": [
            "[011/100] Train Acc: 0.69469 Loss: 0.95670 | Val Acc: 0.71676 loss: 0.88812\n",
            "saving model with acc 0.71676\n"
          ]
        },
        {
          "output_type": "stream",
          "name": "stderr",
          "text": [
            "100%|██████████| 3103/3103 [00:32<00:00, 94.39it/s]\n",
            "100%|██████████| 1032/1032 [00:05<00:00, 205.48it/s]\n"
          ]
        },
        {
          "output_type": "stream",
          "name": "stdout",
          "text": [
            "[012/100] Train Acc: 0.69864 Loss: 0.94309 | Val Acc: 0.71861 loss: 0.88102\n",
            "saving model with acc 0.71861\n"
          ]
        },
        {
          "output_type": "stream",
          "name": "stderr",
          "text": [
            "100%|██████████| 3103/3103 [00:32<00:00, 94.27it/s]\n",
            "100%|██████████| 1032/1032 [00:05<00:00, 201.67it/s]\n"
          ]
        },
        {
          "output_type": "stream",
          "name": "stdout",
          "text": [
            "[013/100] Train Acc: 0.70209 Loss: 0.93152 | Val Acc: 0.72142 loss: 0.87402\n",
            "saving model with acc 0.72142\n"
          ]
        },
        {
          "output_type": "stream",
          "name": "stderr",
          "text": [
            "100%|██████████| 3103/3103 [00:33<00:00, 92.58it/s]\n",
            "100%|██████████| 1032/1032 [00:05<00:00, 198.88it/s]\n"
          ]
        },
        {
          "output_type": "stream",
          "name": "stdout",
          "text": [
            "[014/100] Train Acc: 0.70501 Loss: 0.92035 | Val Acc: 0.72174 loss: 0.87044\n",
            "saving model with acc 0.72174\n"
          ]
        },
        {
          "output_type": "stream",
          "name": "stderr",
          "text": [
            "100%|██████████| 3103/3103 [00:33<00:00, 93.99it/s]\n",
            "100%|██████████| 1032/1032 [00:05<00:00, 188.15it/s]\n"
          ]
        },
        {
          "output_type": "stream",
          "name": "stdout",
          "text": [
            "[015/100] Train Acc: 0.70808 Loss: 0.91077 | Val Acc: 0.72368 loss: 0.86312\n",
            "saving model with acc 0.72368\n"
          ]
        },
        {
          "output_type": "stream",
          "name": "stderr",
          "text": [
            "100%|██████████| 3103/3103 [00:32<00:00, 94.76it/s]\n",
            "100%|██████████| 1032/1032 [00:05<00:00, 177.95it/s]\n"
          ]
        },
        {
          "output_type": "stream",
          "name": "stdout",
          "text": [
            "[016/100] Train Acc: 0.71049 Loss: 0.90159 | Val Acc: 0.72536 loss: 0.85937\n",
            "saving model with acc 0.72536\n"
          ]
        },
        {
          "output_type": "stream",
          "name": "stderr",
          "text": [
            "100%|██████████| 3103/3103 [00:32<00:00, 95.48it/s]\n",
            "100%|██████████| 1032/1032 [00:05<00:00, 176.27it/s]\n"
          ]
        },
        {
          "output_type": "stream",
          "name": "stdout",
          "text": [
            "[017/100] Train Acc: 0.71334 Loss: 0.89164 | Val Acc: 0.72611 loss: 0.85747\n",
            "saving model with acc 0.72611\n"
          ]
        },
        {
          "output_type": "stream",
          "name": "stderr",
          "text": [
            "100%|██████████| 3103/3103 [00:32<00:00, 95.14it/s]\n",
            "100%|██████████| 1032/1032 [00:07<00:00, 140.41it/s]\n"
          ]
        },
        {
          "output_type": "stream",
          "name": "stdout",
          "text": [
            "[018/100] Train Acc: 0.71555 Loss: 0.88476 | Val Acc: 0.72830 loss: 0.85076\n",
            "saving model with acc 0.72830\n"
          ]
        },
        {
          "output_type": "stream",
          "name": "stderr",
          "text": [
            "100%|██████████| 3103/3103 [00:36<00:00, 84.01it/s]\n",
            "100%|██████████| 1032/1032 [00:05<00:00, 205.18it/s]\n"
          ]
        },
        {
          "output_type": "stream",
          "name": "stdout",
          "text": [
            "[019/100] Train Acc: 0.71718 Loss: 0.87749 | Val Acc: 0.72892 loss: 0.84837\n",
            "saving model with acc 0.72892\n"
          ]
        },
        {
          "output_type": "stream",
          "name": "stderr",
          "text": [
            "100%|██████████| 3103/3103 [00:33<00:00, 92.29it/s]\n",
            "100%|██████████| 1032/1032 [00:05<00:00, 188.03it/s]\n"
          ]
        },
        {
          "output_type": "stream",
          "name": "stdout",
          "text": [
            "[020/100] Train Acc: 0.71975 Loss: 0.86948 | Val Acc: 0.73070 loss: 0.84353\n",
            "saving model with acc 0.73070\n"
          ]
        },
        {
          "output_type": "stream",
          "name": "stderr",
          "text": [
            "100%|██████████| 3103/3103 [00:33<00:00, 91.87it/s]\n",
            "100%|██████████| 1032/1032 [00:05<00:00, 202.19it/s]\n"
          ]
        },
        {
          "output_type": "stream",
          "name": "stdout",
          "text": [
            "[021/100] Train Acc: 0.72098 Loss: 0.86344 | Val Acc: 0.73159 loss: 0.84261\n",
            "saving model with acc 0.73159\n"
          ]
        },
        {
          "output_type": "stream",
          "name": "stderr",
          "text": [
            "100%|██████████| 3103/3103 [00:33<00:00, 92.72it/s]\n",
            "100%|██████████| 1032/1032 [00:05<00:00, 204.11it/s]\n"
          ]
        },
        {
          "output_type": "stream",
          "name": "stdout",
          "text": [
            "[022/100] Train Acc: 0.72308 Loss: 0.85699 | Val Acc: 0.73235 loss: 0.83913\n",
            "saving model with acc 0.73235\n"
          ]
        },
        {
          "output_type": "stream",
          "name": "stderr",
          "text": [
            "100%|██████████| 3103/3103 [00:33<00:00, 93.22it/s]\n",
            "100%|██████████| 1032/1032 [00:05<00:00, 195.23it/s]\n"
          ]
        },
        {
          "output_type": "stream",
          "name": "stdout",
          "text": [
            "[023/100] Train Acc: 0.72422 Loss: 0.85051 | Val Acc: 0.73243 loss: 0.83847\n",
            "saving model with acc 0.73243\n"
          ]
        },
        {
          "output_type": "stream",
          "name": "stderr",
          "text": [
            "100%|██████████| 3103/3103 [00:33<00:00, 93.78it/s]\n",
            "100%|██████████| 1032/1032 [00:05<00:00, 177.51it/s]\n"
          ]
        },
        {
          "output_type": "stream",
          "name": "stdout",
          "text": [
            "[024/100] Train Acc: 0.72616 Loss: 0.84509 | Val Acc: 0.73367 loss: 0.83605\n",
            "saving model with acc 0.73367\n"
          ]
        },
        {
          "output_type": "stream",
          "name": "stderr",
          "text": [
            "100%|██████████| 3103/3103 [00:32<00:00, 94.33it/s]\n",
            "100%|██████████| 1032/1032 [00:05<00:00, 174.26it/s]\n"
          ]
        },
        {
          "output_type": "stream",
          "name": "stdout",
          "text": [
            "[025/100] Train Acc: 0.72741 Loss: 0.84082 | Val Acc: 0.73467 loss: 0.83261\n",
            "saving model with acc 0.73467\n"
          ]
        },
        {
          "output_type": "stream",
          "name": "stderr",
          "text": [
            "100%|██████████| 3103/3103 [00:32<00:00, 94.57it/s]\n",
            "100%|██████████| 1032/1032 [00:05<00:00, 176.13it/s]\n"
          ]
        },
        {
          "output_type": "stream",
          "name": "stdout",
          "text": [
            "[026/100] Train Acc: 0.72904 Loss: 0.83560 | Val Acc: 0.73511 loss: 0.83143\n",
            "saving model with acc 0.73511\n"
          ]
        },
        {
          "output_type": "stream",
          "name": "stderr",
          "text": [
            "100%|██████████| 3103/3103 [00:32<00:00, 94.51it/s]\n",
            "100%|██████████| 1032/1032 [00:05<00:00, 175.54it/s]\n"
          ]
        },
        {
          "output_type": "stream",
          "name": "stdout",
          "text": [
            "[027/100] Train Acc: 0.73015 Loss: 0.83043 | Val Acc: 0.73590 loss: 0.82962\n",
            "saving model with acc 0.73590\n"
          ]
        },
        {
          "output_type": "stream",
          "name": "stderr",
          "text": [
            "100%|██████████| 3103/3103 [00:33<00:00, 93.19it/s]\n",
            "100%|██████████| 1032/1032 [00:05<00:00, 197.79it/s]\n"
          ]
        },
        {
          "output_type": "stream",
          "name": "stdout",
          "text": [
            "[028/100] Train Acc: 0.73158 Loss: 0.82655 | Val Acc: 0.73669 loss: 0.82651\n",
            "saving model with acc 0.73669\n"
          ]
        },
        {
          "output_type": "stream",
          "name": "stderr",
          "text": [
            "100%|██████████| 3103/3103 [00:33<00:00, 92.99it/s]\n",
            "100%|██████████| 1032/1032 [00:04<00:00, 208.07it/s]\n"
          ]
        },
        {
          "output_type": "stream",
          "name": "stdout",
          "text": [
            "[029/100] Train Acc: 0.73276 Loss: 0.82115 | Val Acc: 0.73696 loss: 0.82736\n",
            "saving model with acc 0.73696\n"
          ]
        },
        {
          "output_type": "stream",
          "name": "stderr",
          "text": [
            "100%|██████████| 3103/3103 [00:33<00:00, 93.56it/s]\n",
            "100%|██████████| 1032/1032 [00:04<00:00, 208.72it/s]\n"
          ]
        },
        {
          "output_type": "stream",
          "name": "stdout",
          "text": [
            "[030/100] Train Acc: 0.73378 Loss: 0.81736 | Val Acc: 0.73753 loss: 0.82527\n",
            "saving model with acc 0.73753\n"
          ]
        },
        {
          "output_type": "stream",
          "name": "stderr",
          "text": [
            "100%|██████████| 3103/3103 [00:33<00:00, 92.98it/s]\n",
            "100%|██████████| 1032/1032 [00:05<00:00, 206.24it/s]\n"
          ]
        },
        {
          "output_type": "stream",
          "name": "stdout",
          "text": [
            "[031/100] Train Acc: 0.73525 Loss: 0.81277 | Val Acc: 0.73734 loss: 0.82589\n"
          ]
        },
        {
          "output_type": "stream",
          "name": "stderr",
          "text": [
            "100%|██████████| 3103/3103 [00:33<00:00, 93.30it/s]\n",
            "100%|██████████| 1032/1032 [00:04<00:00, 207.42it/s]\n"
          ]
        },
        {
          "output_type": "stream",
          "name": "stdout",
          "text": [
            "[032/100] Train Acc: 0.73606 Loss: 0.80970 | Val Acc: 0.73787 loss: 0.82355\n",
            "saving model with acc 0.73787\n"
          ]
        },
        {
          "output_type": "stream",
          "name": "stderr",
          "text": [
            "100%|██████████| 3103/3103 [00:33<00:00, 92.20it/s]\n",
            "100%|██████████| 1032/1032 [00:05<00:00, 203.80it/s]\n"
          ]
        },
        {
          "output_type": "stream",
          "name": "stdout",
          "text": [
            "[033/100] Train Acc: 0.73671 Loss: 0.80665 | Val Acc: 0.73851 loss: 0.82398\n",
            "saving model with acc 0.73851\n"
          ]
        },
        {
          "output_type": "stream",
          "name": "stderr",
          "text": [
            "100%|██████████| 3103/3103 [00:33<00:00, 92.77it/s]\n",
            "100%|██████████| 1032/1032 [00:05<00:00, 194.95it/s]\n"
          ]
        },
        {
          "output_type": "stream",
          "name": "stdout",
          "text": [
            "[034/100] Train Acc: 0.73774 Loss: 0.80338 | Val Acc: 0.73881 loss: 0.82217\n",
            "saving model with acc 0.73881\n"
          ]
        },
        {
          "output_type": "stream",
          "name": "stderr",
          "text": [
            "100%|██████████| 3103/3103 [00:32<00:00, 94.40it/s]\n",
            "100%|██████████| 1032/1032 [00:05<00:00, 178.31it/s]\n"
          ]
        },
        {
          "output_type": "stream",
          "name": "stdout",
          "text": [
            "[035/100] Train Acc: 0.73894 Loss: 0.79940 | Val Acc: 0.73979 loss: 0.81968\n",
            "saving model with acc 0.73979\n"
          ]
        },
        {
          "output_type": "stream",
          "name": "stderr",
          "text": [
            "100%|██████████| 3103/3103 [00:32<00:00, 94.46it/s] \n",
            "100%|██████████| 1032/1032 [00:05<00:00, 176.55it/s]\n"
          ]
        },
        {
          "output_type": "stream",
          "name": "stdout",
          "text": [
            "[036/100] Train Acc: 0.73934 Loss: 0.79707 | Val Acc: 0.74040 loss: 0.81958\n",
            "saving model with acc 0.74040\n"
          ]
        },
        {
          "output_type": "stream",
          "name": "stderr",
          "text": [
            "100%|██████████| 3103/3103 [00:32<00:00, 94.92it/s]\n",
            "100%|██████████| 1032/1032 [00:05<00:00, 173.44it/s]\n"
          ]
        },
        {
          "output_type": "stream",
          "name": "stdout",
          "text": [
            "[037/100] Train Acc: 0.74090 Loss: 0.79255 | Val Acc: 0.74003 loss: 0.81926\n"
          ]
        },
        {
          "output_type": "stream",
          "name": "stderr",
          "text": [
            "100%|██████████| 3103/3103 [00:32<00:00, 94.65it/s]\n",
            "100%|██████████| 1032/1032 [00:06<00:00, 164.78it/s]\n"
          ]
        },
        {
          "output_type": "stream",
          "name": "stdout",
          "text": [
            "[038/100] Train Acc: 0.74146 Loss: 0.78995 | Val Acc: 0.74026 loss: 0.81766\n"
          ]
        },
        {
          "output_type": "stream",
          "name": "stderr",
          "text": [
            "100%|██████████| 3103/3103 [00:32<00:00, 95.36it/s]\n",
            "100%|██████████| 1032/1032 [00:06<00:00, 164.41it/s]\n"
          ]
        },
        {
          "output_type": "stream",
          "name": "stdout",
          "text": [
            "[039/100] Train Acc: 0.74206 Loss: 0.78771 | Val Acc: 0.74158 loss: 0.81636\n",
            "saving model with acc 0.74158\n"
          ]
        },
        {
          "output_type": "stream",
          "name": "stderr",
          "text": [
            "100%|██████████| 3103/3103 [00:32<00:00, 95.33it/s]\n",
            "100%|██████████| 1032/1032 [00:05<00:00, 176.33it/s]\n"
          ]
        },
        {
          "output_type": "stream",
          "name": "stdout",
          "text": [
            "[040/100] Train Acc: 0.74330 Loss: 0.78345 | Val Acc: 0.74207 loss: 0.81461\n",
            "saving model with acc 0.74207\n"
          ]
        },
        {
          "output_type": "stream",
          "name": "stderr",
          "text": [
            "100%|██████████| 3103/3103 [00:32<00:00, 95.11it/s]\n",
            "100%|██████████| 1032/1032 [00:05<00:00, 176.81it/s]\n"
          ]
        },
        {
          "output_type": "stream",
          "name": "stdout",
          "text": [
            "[041/100] Train Acc: 0.74422 Loss: 0.78175 | Val Acc: 0.74140 loss: 0.81684\n"
          ]
        },
        {
          "output_type": "stream",
          "name": "stderr",
          "text": [
            "100%|██████████| 3103/3103 [00:32<00:00, 94.58it/s]\n",
            "100%|██████████| 1032/1032 [00:05<00:00, 180.36it/s]\n"
          ]
        },
        {
          "output_type": "stream",
          "name": "stdout",
          "text": [
            "[042/100] Train Acc: 0.74468 Loss: 0.77911 | Val Acc: 0.74217 loss: 0.81376\n",
            "saving model with acc 0.74217\n"
          ]
        },
        {
          "output_type": "stream",
          "name": "stderr",
          "text": [
            "100%|██████████| 3103/3103 [00:33<00:00, 93.93it/s]\n",
            "100%|██████████| 1032/1032 [00:05<00:00, 194.13it/s]\n"
          ]
        },
        {
          "output_type": "stream",
          "name": "stdout",
          "text": [
            "[043/100] Train Acc: 0.74535 Loss: 0.77593 | Val Acc: 0.74239 loss: 0.81393\n",
            "saving model with acc 0.74239\n"
          ]
        },
        {
          "output_type": "stream",
          "name": "stderr",
          "text": [
            "100%|██████████| 3103/3103 [00:32<00:00, 94.03it/s]\n",
            "100%|██████████| 1032/1032 [00:05<00:00, 184.04it/s]\n"
          ]
        },
        {
          "output_type": "stream",
          "name": "stdout",
          "text": [
            "[044/100] Train Acc: 0.74620 Loss: 0.77399 | Val Acc: 0.74229 loss: 0.81470\n"
          ]
        },
        {
          "output_type": "stream",
          "name": "stderr",
          "text": [
            "100%|██████████| 3103/3103 [00:32<00:00, 94.46it/s]\n",
            "100%|██████████| 1032/1032 [00:05<00:00, 176.20it/s]\n"
          ]
        },
        {
          "output_type": "stream",
          "name": "stdout",
          "text": [
            "[045/100] Train Acc: 0.74660 Loss: 0.77149 | Val Acc: 0.74284 loss: 0.81344\n",
            "saving model with acc 0.74284\n"
          ]
        },
        {
          "output_type": "stream",
          "name": "stderr",
          "text": [
            "100%|██████████| 3103/3103 [00:32<00:00, 95.39it/s]\n",
            "100%|██████████| 1032/1032 [00:05<00:00, 176.84it/s]\n"
          ]
        },
        {
          "output_type": "stream",
          "name": "stdout",
          "text": [
            "[046/100] Train Acc: 0.74752 Loss: 0.76875 | Val Acc: 0.74281 loss: 0.81424\n"
          ]
        },
        {
          "output_type": "stream",
          "name": "stderr",
          "text": [
            "100%|██████████| 3103/3103 [00:32<00:00, 95.12it/s]\n",
            "100%|██████████| 1032/1032 [00:05<00:00, 186.51it/s]\n"
          ]
        },
        {
          "output_type": "stream",
          "name": "stdout",
          "text": [
            "[047/100] Train Acc: 0.74802 Loss: 0.76606 | Val Acc: 0.74360 loss: 0.81339\n",
            "saving model with acc 0.74360\n"
          ]
        },
        {
          "output_type": "stream",
          "name": "stderr",
          "text": [
            "100%|██████████| 3103/3103 [00:33<00:00, 93.55it/s]\n",
            "100%|██████████| 1032/1032 [00:05<00:00, 190.07it/s]\n"
          ]
        },
        {
          "output_type": "stream",
          "name": "stdout",
          "text": [
            "[048/100] Train Acc: 0.74868 Loss: 0.76430 | Val Acc: 0.74385 loss: 0.81229\n",
            "saving model with acc 0.74385\n"
          ]
        },
        {
          "output_type": "stream",
          "name": "stderr",
          "text": [
            "100%|██████████| 3103/3103 [00:33<00:00, 93.40it/s]\n",
            "100%|██████████| 1032/1032 [00:05<00:00, 199.32it/s]\n"
          ]
        },
        {
          "output_type": "stream",
          "name": "stdout",
          "text": [
            "[049/100] Train Acc: 0.74931 Loss: 0.76232 | Val Acc: 0.74381 loss: 0.81241\n"
          ]
        },
        {
          "output_type": "stream",
          "name": "stderr",
          "text": [
            "100%|██████████| 3103/3103 [00:33<00:00, 93.99it/s]\n",
            "100%|██████████| 1032/1032 [00:04<00:00, 209.26it/s]\n"
          ]
        },
        {
          "output_type": "stream",
          "name": "stdout",
          "text": [
            "[050/100] Train Acc: 0.74977 Loss: 0.75962 | Val Acc: 0.74437 loss: 0.81254\n",
            "saving model with acc 0.74437\n"
          ]
        },
        {
          "output_type": "stream",
          "name": "stderr",
          "text": [
            "100%|██████████| 3103/3103 [00:32<00:00, 94.26it/s]\n",
            "100%|██████████| 1032/1032 [00:04<00:00, 206.83it/s]\n"
          ]
        },
        {
          "output_type": "stream",
          "name": "stdout",
          "text": [
            "[051/100] Train Acc: 0.75049 Loss: 0.75739 | Val Acc: 0.74440 loss: 0.81240\n",
            "saving model with acc 0.74440\n"
          ]
        },
        {
          "output_type": "stream",
          "name": "stderr",
          "text": [
            "100%|██████████| 3103/3103 [00:33<00:00, 93.64it/s]\n",
            "100%|██████████| 1032/1032 [00:04<00:00, 209.68it/s]\n"
          ]
        },
        {
          "output_type": "stream",
          "name": "stdout",
          "text": [
            "[052/100] Train Acc: 0.75131 Loss: 0.75637 | Val Acc: 0.74416 loss: 0.81082\n"
          ]
        },
        {
          "output_type": "stream",
          "name": "stderr",
          "text": [
            "100%|██████████| 3103/3103 [00:33<00:00, 93.77it/s]\n",
            "100%|██████████| 1032/1032 [00:04<00:00, 207.53it/s]\n"
          ]
        },
        {
          "output_type": "stream",
          "name": "stdout",
          "text": [
            "[053/100] Train Acc: 0.75206 Loss: 0.75284 | Val Acc: 0.74398 loss: 0.81162\n"
          ]
        },
        {
          "output_type": "stream",
          "name": "stderr",
          "text": [
            "100%|██████████| 3103/3103 [00:32<00:00, 94.52it/s]\n",
            "100%|██████████| 1032/1032 [00:04<00:00, 209.44it/s]\n"
          ]
        },
        {
          "output_type": "stream",
          "name": "stdout",
          "text": [
            "[054/100] Train Acc: 0.75236 Loss: 0.75123 | Val Acc: 0.74489 loss: 0.80946\n",
            "saving model with acc 0.74489\n"
          ]
        },
        {
          "output_type": "stream",
          "name": "stderr",
          "text": [
            "100%|██████████| 3103/3103 [00:32<00:00, 94.54it/s]\n",
            "100%|██████████| 1032/1032 [00:04<00:00, 209.62it/s]\n"
          ]
        },
        {
          "output_type": "stream",
          "name": "stdout",
          "text": [
            "[055/100] Train Acc: 0.75293 Loss: 0.75026 | Val Acc: 0.74466 loss: 0.81162\n"
          ]
        },
        {
          "output_type": "stream",
          "name": "stderr",
          "text": [
            "100%|██████████| 3103/3103 [00:33<00:00, 93.67it/s]\n",
            "100%|██████████| 1032/1032 [00:05<00:00, 202.16it/s]\n"
          ]
        },
        {
          "output_type": "stream",
          "name": "stdout",
          "text": [
            "[056/100] Train Acc: 0.75308 Loss: 0.74886 | Val Acc: 0.74488 loss: 0.80969\n"
          ]
        },
        {
          "output_type": "stream",
          "name": "stderr",
          "text": [
            "100%|██████████| 3103/3103 [00:32<00:00, 94.48it/s]\n",
            "100%|██████████| 1032/1032 [00:05<00:00, 188.85it/s]\n"
          ]
        },
        {
          "output_type": "stream",
          "name": "stdout",
          "text": [
            "[057/100] Train Acc: 0.75347 Loss: 0.74680 | Val Acc: 0.74494 loss: 0.80856\n",
            "saving model with acc 0.74494\n"
          ]
        },
        {
          "output_type": "stream",
          "name": "stderr",
          "text": [
            "100%|██████████| 3103/3103 [00:32<00:00, 95.31it/s]\n",
            "100%|██████████| 1032/1032 [00:05<00:00, 179.90it/s]\n"
          ]
        },
        {
          "output_type": "stream",
          "name": "stdout",
          "text": [
            "[058/100] Train Acc: 0.75402 Loss: 0.74514 | Val Acc: 0.74508 loss: 0.80966\n",
            "saving model with acc 0.74508\n"
          ]
        },
        {
          "output_type": "stream",
          "name": "stderr",
          "text": [
            "100%|██████████| 3103/3103 [00:32<00:00, 96.33it/s]\n",
            "100%|██████████| 1032/1032 [00:05<00:00, 173.03it/s]\n"
          ]
        },
        {
          "output_type": "stream",
          "name": "stdout",
          "text": [
            "[059/100] Train Acc: 0.75470 Loss: 0.74365 | Val Acc: 0.74512 loss: 0.80964\n",
            "saving model with acc 0.74512\n"
          ]
        },
        {
          "output_type": "stream",
          "name": "stderr",
          "text": [
            "100%|██████████| 3103/3103 [00:32<00:00, 96.77it/s]\n",
            "100%|██████████| 1032/1032 [00:06<00:00, 148.03it/s]\n"
          ]
        },
        {
          "output_type": "stream",
          "name": "stdout",
          "text": [
            "[060/100] Train Acc: 0.75486 Loss: 0.74200 | Val Acc: 0.74568 loss: 0.80907\n",
            "saving model with acc 0.74568\n"
          ]
        },
        {
          "output_type": "stream",
          "name": "stderr",
          "text": [
            "100%|██████████| 3103/3103 [00:31<00:00, 97.63it/s]\n",
            "100%|██████████| 1032/1032 [00:06<00:00, 153.06it/s]\n"
          ]
        },
        {
          "output_type": "stream",
          "name": "stdout",
          "text": [
            "[061/100] Train Acc: 0.75504 Loss: 0.74098 | Val Acc: 0.74545 loss: 0.80884\n"
          ]
        },
        {
          "output_type": "stream",
          "name": "stderr",
          "text": [
            "100%|██████████| 3103/3103 [00:32<00:00, 96.09it/s]\n",
            "100%|██████████| 1032/1032 [00:05<00:00, 191.45it/s]\n"
          ]
        },
        {
          "output_type": "stream",
          "name": "stdout",
          "text": [
            "[062/100] Train Acc: 0.75589 Loss: 0.73873 | Val Acc: 0.74592 loss: 0.80884\n",
            "saving model with acc 0.74592\n"
          ]
        },
        {
          "output_type": "stream",
          "name": "stderr",
          "text": [
            "100%|██████████| 3103/3103 [00:32<00:00, 94.78it/s]\n",
            "100%|██████████| 1032/1032 [00:04<00:00, 208.78it/s]\n"
          ]
        },
        {
          "output_type": "stream",
          "name": "stdout",
          "text": [
            "[063/100] Train Acc: 0.75644 Loss: 0.73731 | Val Acc: 0.74586 loss: 0.80899\n"
          ]
        },
        {
          "output_type": "stream",
          "name": "stderr",
          "text": [
            "100%|██████████| 3103/3103 [00:32<00:00, 94.06it/s]\n",
            "100%|██████████| 1032/1032 [00:04<00:00, 210.54it/s]\n"
          ]
        },
        {
          "output_type": "stream",
          "name": "stdout",
          "text": [
            "[064/100] Train Acc: 0.75656 Loss: 0.73551 | Val Acc: 0.74572 loss: 0.80901\n"
          ]
        },
        {
          "output_type": "stream",
          "name": "stderr",
          "text": [
            "100%|██████████| 3103/3103 [00:32<00:00, 94.09it/s]\n",
            "100%|██████████| 1032/1032 [00:05<00:00, 202.59it/s]\n"
          ]
        },
        {
          "output_type": "stream",
          "name": "stdout",
          "text": [
            "[065/100] Train Acc: 0.75739 Loss: 0.73396 | Val Acc: 0.74620 loss: 0.80676\n",
            "saving model with acc 0.74620\n"
          ]
        },
        {
          "output_type": "stream",
          "name": "stderr",
          "text": [
            "100%|██████████| 3103/3103 [00:33<00:00, 93.92it/s]\n",
            "100%|██████████| 1032/1032 [00:04<00:00, 209.74it/s]\n"
          ]
        },
        {
          "output_type": "stream",
          "name": "stdout",
          "text": [
            "[066/100] Train Acc: 0.75775 Loss: 0.73246 | Val Acc: 0.74613 loss: 0.80852\n"
          ]
        },
        {
          "output_type": "stream",
          "name": "stderr",
          "text": [
            "100%|██████████| 3103/3103 [00:32<00:00, 94.47it/s]\n",
            "100%|██████████| 1032/1032 [00:04<00:00, 210.24it/s]\n"
          ]
        },
        {
          "output_type": "stream",
          "name": "stdout",
          "text": [
            "[067/100] Train Acc: 0.75781 Loss: 0.73147 | Val Acc: 0.74589 loss: 0.80919\n"
          ]
        },
        {
          "output_type": "stream",
          "name": "stderr",
          "text": [
            "100%|██████████| 3103/3103 [00:32<00:00, 94.49it/s]\n",
            "100%|██████████| 1032/1032 [00:04<00:00, 206.66it/s]\n"
          ]
        },
        {
          "output_type": "stream",
          "name": "stdout",
          "text": [
            "[068/100] Train Acc: 0.75856 Loss: 0.73017 | Val Acc: 0.74663 loss: 0.80624\n",
            "saving model with acc 0.74663\n"
          ]
        },
        {
          "output_type": "stream",
          "name": "stderr",
          "text": [
            "100%|██████████| 3103/3103 [00:33<00:00, 93.57it/s]\n",
            "100%|██████████| 1032/1032 [00:04<00:00, 207.84it/s]\n"
          ]
        },
        {
          "output_type": "stream",
          "name": "stdout",
          "text": [
            "[069/100] Train Acc: 0.75894 Loss: 0.72743 | Val Acc: 0.74672 loss: 0.81001\n",
            "saving model with acc 0.74672\n"
          ]
        },
        {
          "output_type": "stream",
          "name": "stderr",
          "text": [
            "100%|██████████| 3103/3103 [00:33<00:00, 92.69it/s]\n",
            "100%|██████████| 1032/1032 [00:05<00:00, 200.88it/s]\n"
          ]
        },
        {
          "output_type": "stream",
          "name": "stdout",
          "text": [
            "[070/100] Train Acc: 0.75930 Loss: 0.72698 | Val Acc: 0.74621 loss: 0.80848\n"
          ]
        },
        {
          "output_type": "stream",
          "name": "stderr",
          "text": [
            "100%|██████████| 3103/3103 [00:32<00:00, 94.11it/s]\n",
            "100%|██████████| 1032/1032 [00:05<00:00, 184.46it/s]\n"
          ]
        },
        {
          "output_type": "stream",
          "name": "stdout",
          "text": [
            "[071/100] Train Acc: 0.75959 Loss: 0.72553 | Val Acc: 0.74689 loss: 0.80492\n",
            "saving model with acc 0.74689\n"
          ]
        },
        {
          "output_type": "stream",
          "name": "stderr",
          "text": [
            "100%|██████████| 3103/3103 [00:32<00:00, 94.64it/s]\n",
            "100%|██████████| 1032/1032 [00:05<00:00, 174.34it/s]\n"
          ]
        },
        {
          "output_type": "stream",
          "name": "stdout",
          "text": [
            "[072/100] Train Acc: 0.75994 Loss: 0.72383 | Val Acc: 0.74759 loss: 0.80475\n",
            "saving model with acc 0.74759\n"
          ]
        },
        {
          "output_type": "stream",
          "name": "stderr",
          "text": [
            "100%|██████████| 3103/3103 [00:32<00:00, 95.07it/s]\n",
            "100%|██████████| 1032/1032 [00:05<00:00, 172.74it/s]\n"
          ]
        },
        {
          "output_type": "stream",
          "name": "stdout",
          "text": [
            "[073/100] Train Acc: 0.76045 Loss: 0.72250 | Val Acc: 0.74710 loss: 0.80708\n"
          ]
        },
        {
          "output_type": "stream",
          "name": "stderr",
          "text": [
            "100%|██████████| 3103/3103 [00:32<00:00, 96.21it/s]\n",
            "100%|██████████| 1032/1032 [00:05<00:00, 177.60it/s]\n"
          ]
        },
        {
          "output_type": "stream",
          "name": "stdout",
          "text": [
            "[074/100] Train Acc: 0.76089 Loss: 0.72203 | Val Acc: 0.74686 loss: 0.80769\n"
          ]
        },
        {
          "output_type": "stream",
          "name": "stderr",
          "text": [
            "100%|██████████| 3103/3103 [00:33<00:00, 93.84it/s]\n",
            "100%|██████████| 1032/1032 [00:05<00:00, 203.92it/s]\n"
          ]
        },
        {
          "output_type": "stream",
          "name": "stdout",
          "text": [
            "[075/100] Train Acc: 0.76114 Loss: 0.72046 | Val Acc: 0.74732 loss: 0.80669\n"
          ]
        },
        {
          "output_type": "stream",
          "name": "stderr",
          "text": [
            "100%|██████████| 3103/3103 [00:32<00:00, 95.17it/s]\n",
            "100%|██████████| 1032/1032 [00:05<00:00, 172.10it/s]\n"
          ]
        },
        {
          "output_type": "stream",
          "name": "stdout",
          "text": [
            "[076/100] Train Acc: 0.76168 Loss: 0.71893 | Val Acc: 0.74771 loss: 0.80553\n",
            "saving model with acc 0.74771\n"
          ]
        },
        {
          "output_type": "stream",
          "name": "stderr",
          "text": [
            "100%|██████████| 3103/3103 [00:32<00:00, 94.79it/s]\n",
            "100%|██████████| 1032/1032 [00:05<00:00, 176.96it/s]\n"
          ]
        },
        {
          "output_type": "stream",
          "name": "stdout",
          "text": [
            "[077/100] Train Acc: 0.76178 Loss: 0.71821 | Val Acc: 0.74757 loss: 0.80718\n"
          ]
        },
        {
          "output_type": "stream",
          "name": "stderr",
          "text": [
            "100%|██████████| 3103/3103 [00:32<00:00, 95.09it/s]\n",
            "100%|██████████| 1032/1032 [00:05<00:00, 204.98it/s]\n"
          ]
        },
        {
          "output_type": "stream",
          "name": "stdout",
          "text": [
            "[078/100] Train Acc: 0.76198 Loss: 0.71741 | Val Acc: 0.74751 loss: 0.80662\n"
          ]
        },
        {
          "output_type": "stream",
          "name": "stderr",
          "text": [
            "100%|██████████| 3103/3103 [00:33<00:00, 92.63it/s]\n",
            "100%|██████████| 1032/1032 [00:05<00:00, 205.09it/s]\n"
          ]
        },
        {
          "output_type": "stream",
          "name": "stdout",
          "text": [
            "[079/100] Train Acc: 0.76214 Loss: 0.71593 | Val Acc: 0.74768 loss: 0.80549\n"
          ]
        },
        {
          "output_type": "stream",
          "name": "stderr",
          "text": [
            "100%|██████████| 3103/3103 [00:33<00:00, 93.89it/s]\n",
            "100%|██████████| 1032/1032 [00:04<00:00, 209.89it/s]\n"
          ]
        },
        {
          "output_type": "stream",
          "name": "stdout",
          "text": [
            "[080/100] Train Acc: 0.76302 Loss: 0.71412 | Val Acc: 0.74729 loss: 0.80809\n"
          ]
        },
        {
          "output_type": "stream",
          "name": "stderr",
          "text": [
            "100%|██████████| 3103/3103 [00:32<00:00, 94.34it/s]\n",
            "100%|██████████| 1032/1032 [00:05<00:00, 194.52it/s]\n"
          ]
        },
        {
          "output_type": "stream",
          "name": "stdout",
          "text": [
            "[081/100] Train Acc: 0.76274 Loss: 0.71350 | Val Acc: 0.74759 loss: 0.80670\n"
          ]
        },
        {
          "output_type": "stream",
          "name": "stderr",
          "text": [
            "100%|██████████| 3103/3103 [00:33<00:00, 93.13it/s]\n",
            "100%|██████████| 1032/1032 [00:05<00:00, 191.97it/s]\n"
          ]
        },
        {
          "output_type": "stream",
          "name": "stdout",
          "text": [
            "[082/100] Train Acc: 0.76266 Loss: 0.71359 | Val Acc: 0.74751 loss: 0.80676\n"
          ]
        },
        {
          "output_type": "stream",
          "name": "stderr",
          "text": [
            "100%|██████████| 3103/3103 [00:33<00:00, 93.20it/s]\n",
            "100%|██████████| 1032/1032 [00:05<00:00, 178.39it/s]\n"
          ]
        },
        {
          "output_type": "stream",
          "name": "stdout",
          "text": [
            "[083/100] Train Acc: 0.76349 Loss: 0.71100 | Val Acc: 0.74819 loss: 0.80457\n",
            "saving model with acc 0.74819\n"
          ]
        },
        {
          "output_type": "stream",
          "name": "stderr",
          "text": [
            "100%|██████████| 3103/3103 [00:32<00:00, 94.81it/s]\n",
            "100%|██████████| 1032/1032 [00:05<00:00, 175.52it/s]\n"
          ]
        },
        {
          "output_type": "stream",
          "name": "stdout",
          "text": [
            "[084/100] Train Acc: 0.76423 Loss: 0.70946 | Val Acc: 0.74759 loss: 0.80577\n"
          ]
        },
        {
          "output_type": "stream",
          "name": "stderr",
          "text": [
            "100%|██████████| 3103/3103 [00:32<00:00, 94.58it/s]\n",
            "100%|██████████| 1032/1032 [00:06<00:00, 170.00it/s]\n"
          ]
        },
        {
          "output_type": "stream",
          "name": "stdout",
          "text": [
            "[085/100] Train Acc: 0.76463 Loss: 0.70881 | Val Acc: 0.74785 loss: 0.80795\n"
          ]
        },
        {
          "output_type": "stream",
          "name": "stderr",
          "text": [
            "100%|██████████| 3103/3103 [00:33<00:00, 93.88it/s]\n",
            "100%|██████████| 1032/1032 [00:05<00:00, 178.90it/s]\n"
          ]
        },
        {
          "output_type": "stream",
          "name": "stdout",
          "text": [
            "[086/100] Train Acc: 0.76479 Loss: 0.70745 | Val Acc: 0.74846 loss: 0.80667\n",
            "saving model with acc 0.74846\n"
          ]
        },
        {
          "output_type": "stream",
          "name": "stderr",
          "text": [
            "100%|██████████| 3103/3103 [00:33<00:00, 93.46it/s]\n",
            "100%|██████████| 1032/1032 [00:05<00:00, 203.03it/s]\n"
          ]
        },
        {
          "output_type": "stream",
          "name": "stdout",
          "text": [
            "[087/100] Train Acc: 0.76502 Loss: 0.70689 | Val Acc: 0.74787 loss: 0.80725\n"
          ]
        },
        {
          "output_type": "stream",
          "name": "stderr",
          "text": [
            "100%|██████████| 3103/3103 [00:33<00:00, 93.28it/s] \n",
            "100%|██████████| 1032/1032 [00:05<00:00, 206.04it/s]\n"
          ]
        },
        {
          "output_type": "stream",
          "name": "stdout",
          "text": [
            "[088/100] Train Acc: 0.76512 Loss: 0.70630 | Val Acc: 0.74762 loss: 0.80766\n"
          ]
        },
        {
          "output_type": "stream",
          "name": "stderr",
          "text": [
            "100%|██████████| 3103/3103 [00:33<00:00, 93.75it/s]\n",
            "100%|██████████| 1032/1032 [00:05<00:00, 203.26it/s]\n"
          ]
        },
        {
          "output_type": "stream",
          "name": "stdout",
          "text": [
            "[089/100] Train Acc: 0.76528 Loss: 0.70489 | Val Acc: 0.74793 loss: 0.80499\n"
          ]
        },
        {
          "output_type": "stream",
          "name": "stderr",
          "text": [
            "100%|██████████| 3103/3103 [00:32<00:00, 94.69it/s]\n",
            "100%|██████████| 1032/1032 [00:05<00:00, 175.12it/s]\n"
          ]
        },
        {
          "output_type": "stream",
          "name": "stdout",
          "text": [
            "[090/100] Train Acc: 0.76592 Loss: 0.70435 | Val Acc: 0.74777 loss: 0.80621\n"
          ]
        },
        {
          "output_type": "stream",
          "name": "stderr",
          "text": [
            "100%|██████████| 3103/3103 [00:32<00:00, 95.92it/s]\n",
            "100%|██████████| 1032/1032 [00:04<00:00, 207.81it/s]\n"
          ]
        },
        {
          "output_type": "stream",
          "name": "stdout",
          "text": [
            "[091/100] Train Acc: 0.76594 Loss: 0.70319 | Val Acc: 0.74803 loss: 0.80716\n"
          ]
        },
        {
          "output_type": "stream",
          "name": "stderr",
          "text": [
            "100%|██████████| 3103/3103 [00:33<00:00, 93.69it/s]\n",
            "100%|██████████| 1032/1032 [00:04<00:00, 212.23it/s]\n"
          ]
        },
        {
          "output_type": "stream",
          "name": "stdout",
          "text": [
            "[092/100] Train Acc: 0.76666 Loss: 0.70146 | Val Acc: 0.74849 loss: 0.80603\n",
            "saving model with acc 0.74849\n"
          ]
        },
        {
          "output_type": "stream",
          "name": "stderr",
          "text": [
            "100%|██████████| 3103/3103 [00:32<00:00, 94.10it/s]\n",
            "100%|██████████| 1032/1032 [00:04<00:00, 207.62it/s]\n"
          ]
        },
        {
          "output_type": "stream",
          "name": "stdout",
          "text": [
            "[093/100] Train Acc: 0.76678 Loss: 0.70079 | Val Acc: 0.74885 loss: 0.80623\n",
            "saving model with acc 0.74885\n"
          ]
        },
        {
          "output_type": "stream",
          "name": "stderr",
          "text": [
            "100%|██████████| 3103/3103 [00:33<00:00, 93.22it/s]\n",
            "100%|██████████| 1032/1032 [00:05<00:00, 188.20it/s]\n"
          ]
        },
        {
          "output_type": "stream",
          "name": "stdout",
          "text": [
            "[094/100] Train Acc: 0.76682 Loss: 0.69998 | Val Acc: 0.74843 loss: 0.80611\n"
          ]
        },
        {
          "output_type": "stream",
          "name": "stderr",
          "text": [
            "100%|██████████| 3103/3103 [00:33<00:00, 93.91it/s]\n",
            "100%|██████████| 1032/1032 [00:05<00:00, 189.88it/s]\n"
          ]
        },
        {
          "output_type": "stream",
          "name": "stdout",
          "text": [
            "[095/100] Train Acc: 0.76695 Loss: 0.69942 | Val Acc: 0.74843 loss: 0.80530\n"
          ]
        },
        {
          "output_type": "stream",
          "name": "stderr",
          "text": [
            "100%|██████████| 3103/3103 [00:32<00:00, 94.99it/s]\n",
            "100%|██████████| 1032/1032 [00:05<00:00, 177.04it/s]\n"
          ]
        },
        {
          "output_type": "stream",
          "name": "stdout",
          "text": [
            "[096/100] Train Acc: 0.76735 Loss: 0.69793 | Val Acc: 0.74885 loss: 0.80660\n",
            "saving model with acc 0.74885\n"
          ]
        },
        {
          "output_type": "stream",
          "name": "stderr",
          "text": [
            "100%|██████████| 3103/3103 [00:32<00:00, 95.73it/s]\n",
            "100%|██████████| 1032/1032 [00:05<00:00, 177.99it/s]\n"
          ]
        },
        {
          "output_type": "stream",
          "name": "stdout",
          "text": [
            "[097/100] Train Acc: 0.76749 Loss: 0.69777 | Val Acc: 0.74871 loss: 0.80722\n"
          ]
        },
        {
          "output_type": "stream",
          "name": "stderr",
          "text": [
            "100%|██████████| 3103/3103 [00:32<00:00, 95.35it/s]\n",
            "100%|██████████| 1032/1032 [00:05<00:00, 172.60it/s]\n"
          ]
        },
        {
          "output_type": "stream",
          "name": "stdout",
          "text": [
            "[098/100] Train Acc: 0.76764 Loss: 0.69670 | Val Acc: 0.74892 loss: 0.80750\n",
            "saving model with acc 0.74892\n"
          ]
        },
        {
          "output_type": "stream",
          "name": "stderr",
          "text": [
            "100%|██████████| 3103/3103 [00:33<00:00, 93.25it/s]\n",
            "100%|██████████| 1032/1032 [00:05<00:00, 199.00it/s]\n"
          ]
        },
        {
          "output_type": "stream",
          "name": "stdout",
          "text": [
            "[099/100] Train Acc: 0.76809 Loss: 0.69545 | Val Acc: 0.74947 loss: 0.80636\n",
            "saving model with acc 0.74947\n"
          ]
        },
        {
          "output_type": "stream",
          "name": "stderr",
          "text": [
            "100%|██████████| 3103/3103 [00:33<00:00, 91.91it/s]\n",
            "100%|██████████| 1032/1032 [00:05<00:00, 197.82it/s]"
          ]
        },
        {
          "output_type": "stream",
          "name": "stdout",
          "text": [
            "[100/100] Train Acc: 0.76830 Loss: 0.69508 | Val Acc: 0.74904 loss: 0.80692\n"
          ]
        },
        {
          "output_type": "stream",
          "name": "stderr",
          "text": [
            "\n"
          ]
        }
      ],
      "source": [
        "# create model, define a loss function, and optimizer\n",
        "model = Classifier(input_dim=input_dim, hidden_layers=hidden_layers, hidden_dim=hidden_dim).to(device)\n",
        "criterion = nn.CrossEntropyLoss() \n",
        "optimizer = torch.optim.Adam(model.parameters(), lr=learning_rate)\n",
        "\n",
        "best_acc = 0.0\n",
        "for epoch in range(num_epoch):\n",
        "    train_acc = 0.0\n",
        "    train_loss = 0.0\n",
        "    val_acc = 0.0\n",
        "    val_loss = 0.0\n",
        "    \n",
        "    # training\n",
        "    model.train() # set the model to training mode\n",
        "    for i, batch in enumerate(tqdm(train_loader)):\n",
        "        features, labels = batch\n",
        "        features = features.to(device)\n",
        "        labels = labels.to(device)\n",
        "        \n",
        "        optimizer.zero_grad() \n",
        "        outputs = model(features) \n",
        "        \n",
        "        loss = criterion(outputs, labels)\n",
        "        loss.backward() \n",
        "        optimizer.step() \n",
        "        \n",
        "        _, train_pred = torch.max(outputs, 1) # get the index of the class with the highest probability\n",
        "        train_acc += (train_pred.detach() == labels.detach()).sum().item()\n",
        "        train_loss += loss.item()\n",
        "    \n",
        "    # validation\n",
        "    model.eval() # set the model to evaluation mode\n",
        "    with torch.no_grad():\n",
        "        for i, batch in enumerate(tqdm(val_loader)):\n",
        "            features, labels = batch\n",
        "            features = features.to(device)\n",
        "            labels = labels.to(device)\n",
        "            outputs = model(features)\n",
        "            \n",
        "            loss = criterion(outputs, labels) \n",
        "            \n",
        "            _, val_pred = torch.max(outputs, 1) \n",
        "            val_acc += (val_pred.cpu() == labels.cpu()).sum().item() # get the index of the class with the highest probability\n",
        "            val_loss += loss.item()\n",
        "\n",
        "    print(f'[{epoch+1:03d}/{num_epoch:03d}] Train Acc: {train_acc/len(train_set):3.5f} Loss: {train_loss/len(train_loader):3.5f} | Val Acc: {val_acc/len(val_set):3.5f} loss: {val_loss/len(val_loader):3.5f}')\n",
        "\n",
        "    # if the model improves, save a checkpoint at this epoch\n",
        "    if val_acc > best_acc:\n",
        "        best_acc = val_acc\n",
        "        torch.save(model.state_dict(), model_path)\n",
        "        print(f'saving model with acc {best_acc/len(val_set):.5f}')\n"
      ]
    },
    {
      "cell_type": "code",
      "execution_count": 10,
      "metadata": {
        "id": "ab33MxosWLmG",
        "outputId": "fbc6e648-d639-4d62-ce3a-f80f5091c60c",
        "colab": {
          "base_uri": "https://localhost:8080/"
        }
      },
      "outputs": [
        {
          "output_type": "execute_result",
          "data": {
            "text/plain": [
              "0"
            ]
          },
          "metadata": {},
          "execution_count": 10
        }
      ],
      "source": [
        "del train_set, val_set\n",
        "del train_loader, val_loader\n",
        "gc.collect()"
      ]
    },
    {
      "cell_type": "markdown",
      "metadata": {
        "id": "1Hi7jTn3PX-m"
      },
      "source": [
        "# Testing\n",
        "Create a testing dataset, and load model from the saved checkpoint."
      ]
    },
    {
      "cell_type": "code",
      "execution_count": 11,
      "metadata": {
        "id": "VOG1Ou0PGrhc",
        "outputId": "53042f8d-a4b6-45b3-8604-b5ce69439e77",
        "colab": {
          "base_uri": "https://localhost:8080/"
        }
      },
      "outputs": [
        {
          "output_type": "stream",
          "name": "stdout",
          "text": [
            "[Dataset] - # phone classes: 41, number of utterances for test: 857\n"
          ]
        },
        {
          "output_type": "stream",
          "name": "stderr",
          "text": [
            "857it [00:02, 406.88it/s]"
          ]
        },
        {
          "output_type": "stream",
          "name": "stdout",
          "text": [
            "[INFO] test set\n",
            "torch.Size([527364, 663])\n"
          ]
        },
        {
          "output_type": "stream",
          "name": "stderr",
          "text": [
            "\n"
          ]
        }
      ],
      "source": [
        "# load data\n",
        "test_X = preprocess_data(split='test', feat_dir='./libriphone/feat', phone_path='./libriphone', concat_nframes=concat_nframes)\n",
        "test_set = LibriDataset(test_X, None)\n",
        "test_loader = DataLoader(test_set, batch_size=batch_size, shuffle=False)"
      ]
    },
    {
      "cell_type": "code",
      "execution_count": 12,
      "metadata": {
        "id": "ay0Fu8Ovkdad",
        "outputId": "1ff89aad-651c-4f28-f742-2d4b1e89233d",
        "colab": {
          "base_uri": "https://localhost:8080/"
        }
      },
      "outputs": [
        {
          "output_type": "execute_result",
          "data": {
            "text/plain": [
              "<All keys matched successfully>"
            ]
          },
          "metadata": {},
          "execution_count": 12
        }
      ],
      "source": [
        "# load model\n",
        "model = Classifier(input_dim=input_dim, hidden_layers=hidden_layers, hidden_dim=hidden_dim).to(device)\n",
        "model.load_state_dict(torch.load(model_path))"
      ]
    },
    {
      "cell_type": "markdown",
      "metadata": {
        "id": "zp-DV1p4r7Nz"
      },
      "source": [
        "Make prediction."
      ]
    },
    {
      "cell_type": "code",
      "execution_count": 13,
      "metadata": {
        "id": "84HU5GGjPqR0",
        "outputId": "814c0b33-5563-4148-8f2d-dbee913c2b27",
        "colab": {
          "base_uri": "https://localhost:8080/"
        }
      },
      "outputs": [
        {
          "output_type": "stream",
          "name": "stderr",
          "text": [
            "100%|██████████| 1031/1031 [00:04<00:00, 240.47it/s]\n"
          ]
        }
      ],
      "source": [
        "pred = np.array([], dtype=np.int32)\n",
        "\n",
        "model.eval()\n",
        "with torch.no_grad():\n",
        "    for i, batch in enumerate(tqdm(test_loader)):\n",
        "        features = batch\n",
        "        features = features.to(device)\n",
        "\n",
        "        outputs = model(features)\n",
        "\n",
        "        _, test_pred = torch.max(outputs, 1) # get the index of the class with the highest probability\n",
        "        pred = np.concatenate((pred, test_pred.cpu().numpy()), axis=0)\n"
      ]
    },
    {
      "cell_type": "markdown",
      "metadata": {
        "id": "wyZqy40Prz0v"
      },
      "source": [
        "Write prediction to a CSV file.\n",
        "\n",
        "After finish running this block, download the file `prediction.csv` from the files section on the left-hand side and submit it to Kaggle."
      ]
    },
    {
      "cell_type": "code",
      "execution_count": 14,
      "metadata": {
        "id": "GuljYSPHcZir"
      },
      "outputs": [],
      "source": [
        "with open('prediction.csv', 'w') as f:\n",
        "    f.write('Id,Class\\n')\n",
        "    for i, y in enumerate(pred):\n",
        "        f.write('{},{}\\n'.format(i, y))"
      ]
    },
    {
      "cell_type": "code",
      "source": [
        "from google.colab import files\n",
        "files.download('prediction.csv')"
      ],
      "metadata": {
        "colab": {
          "base_uri": "https://localhost:8080/",
          "height": 17
        },
        "id": "OMUp9XkTKwSI",
        "outputId": "8024ddac-59be-4168-d24f-dcd290d7eacd"
      },
      "execution_count": 15,
      "outputs": [
        {
          "output_type": "display_data",
          "data": {
            "text/plain": [
              "<IPython.core.display.Javascript object>"
            ],
            "application/javascript": [
              "\n",
              "    async function download(id, filename, size) {\n",
              "      if (!google.colab.kernel.accessAllowed) {\n",
              "        return;\n",
              "      }\n",
              "      const div = document.createElement('div');\n",
              "      const label = document.createElement('label');\n",
              "      label.textContent = `Downloading \"${filename}\": `;\n",
              "      div.appendChild(label);\n",
              "      const progress = document.createElement('progress');\n",
              "      progress.max = size;\n",
              "      div.appendChild(progress);\n",
              "      document.body.appendChild(div);\n",
              "\n",
              "      const buffers = [];\n",
              "      let downloaded = 0;\n",
              "\n",
              "      const channel = await google.colab.kernel.comms.open(id);\n",
              "      // Send a message to notify the kernel that we're ready.\n",
              "      channel.send({})\n",
              "\n",
              "      for await (const message of channel.messages) {\n",
              "        // Send a message to notify the kernel that we're ready.\n",
              "        channel.send({})\n",
              "        if (message.buffers) {\n",
              "          for (const buffer of message.buffers) {\n",
              "            buffers.push(buffer);\n",
              "            downloaded += buffer.byteLength;\n",
              "            progress.value = downloaded;\n",
              "          }\n",
              "        }\n",
              "      }\n",
              "      const blob = new Blob(buffers, {type: 'application/binary'});\n",
              "      const a = document.createElement('a');\n",
              "      a.href = window.URL.createObjectURL(blob);\n",
              "      a.download = filename;\n",
              "      div.appendChild(a);\n",
              "      a.click();\n",
              "      div.remove();\n",
              "    }\n",
              "  "
            ]
          },
          "metadata": {}
        },
        {
          "output_type": "display_data",
          "data": {
            "text/plain": [
              "<IPython.core.display.Javascript object>"
            ],
            "application/javascript": [
              "download(\"download_d3f80f16-3abc-4644-91aa-1ba2448491a9\", \"prediction.csv\", 4943400)"
            ]
          },
          "metadata": {}
        }
      ]
    }
  ],
  "metadata": {
    "accelerator": "GPU",
    "colab": {
      "provenance": []
    },
    "kernelspec": {
      "display_name": "Python 3",
      "name": "python3"
    },
    "gpuClass": "standard"
  },
  "nbformat": 4,
  "nbformat_minor": 0
}